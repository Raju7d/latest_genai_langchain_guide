{
 "cells": [
  {
   "cell_type": "markdown",
   "id": "ccf75bbe",
   "metadata": {},
   "source": [
    "# Langchain\n",
    "\n",
    "https://python.langchain.com/docs/introduction/"
   ]
  },
  {
   "cell_type": "markdown",
   "id": "c7f010d4",
   "metadata": {},
   "source": [
    "1. Langchain is a abstraction python library that helps builds LLM applications\n",
    "2. Langchain offers load docs, models, prompt templates, vectors, tools, text splitters\n",
    "3. langchain is simple library based setup\n",
    "4. you can build RAG applications using langchain framework, best part is that with minimal code, you can build the applications\n",
    "5. "
   ]
  },
  {
   "cell_type": "markdown",
   "id": "8b369000",
   "metadata": {},
   "source": [
    "# Langchain Loaders\n",
    "        1. https://python.langchain.com/api_reference/community/document_loaders.html\n",
    "        2. https://arxiv.org/\n",
    "        3. in arxiv page, if you search for anything, it will return the docs"
   ]
  },
  {
   "cell_type": "markdown",
   "id": "16e8e02c",
   "metadata": {},
   "source": []
  }
 ],
 "metadata": {
  "language_info": {
   "name": "python"
  }
 },
 "nbformat": 4,
 "nbformat_minor": 5
}
